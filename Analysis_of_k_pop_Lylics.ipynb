{
  "cells": [
    {
      "cell_type": "code",
      "execution_count": 9,
      "metadata": {
        "id": "e3bRy3BiZt1M"
      },
      "outputs": [],
      "source": [
        "import os\n",
        "import sys\n",
        "import pandas as pd\n",
        "import numpy as np\n",
        "import matplotlib.pyplot as plt\n",
        "import seaborn as sns"
      ]
    },
    {
      "cell_type": "code",
      "execution_count": 4,
      "metadata": {
        "id": "oa9RlnrY9MHO"
      },
      "outputs": [],
      "source": [
        "# 폰트 설치\n",
        "import matplotlib.font_manager as fm\n",
        "import matplotlib as mpl\n",
        "from matplotlib import rc\n",
        "\n",
        "!apt-get -qq -y install fonts-nanum > /dev/null\n",
        "\n",
        "fe = fm.FontEntry(\n",
        "    fname=r'/usr/share/fonts/truetype/nanum/NanumBarunGothic.ttf', # ttf 파일이 저장되어 있는 경로\n",
        "    name='NanumGothic')                        # 이 폰트의 원하는 이름 설정\n",
        "fm.fontManager.ttflist.insert(0, fe)              # Matplotlib에 폰트 추가\n",
        "plt.rcParams.update({'font.size': 12, 'font.family': 'NanumGothic'}) # 폰트 설정\n",
        "plt.rcParams['axes.unicode_minus'] = False\n"
      ]
    },
    {
      "cell_type": "code",
      "execution_count": null,
      "metadata": {
        "colab": {
          "base_uri": "https://localhost:8080/"
        },
        "id": "7fZpKtFM9MHP",
        "outputId": "97af1f57-b7f0-49f6-d1e7-82adcf18ebf6"
      },
      "outputs": [
        {
          "name": "stdout",
          "output_type": "stream",
          "text": [
            "Requirement already satisfied: konlpy in /usr/local/lib/python3.10/dist-packages (0.6.0)\n",
            "Requirement already satisfied: JPype1>=0.7.0 in /usr/local/lib/python3.10/dist-packages (from konlpy) (1.5.1)\n",
            "Requirement already satisfied: lxml>=4.1.0 in /usr/local/lib/python3.10/dist-packages (from konlpy) (5.3.0)\n",
            "Requirement already satisfied: numpy>=1.6 in /usr/local/lib/python3.10/dist-packages (from konlpy) (1.26.4)\n",
            "Requirement already satisfied: packaging in /usr/local/lib/python3.10/dist-packages (from JPype1>=0.7.0->konlpy) (24.2)\n"
          ]
        }
      ],
      "source": [
        "pip install konlpy"
      ]
    },
    {
      "cell_type": "code",
      "execution_count": null,
      "metadata": {
        "id": "pcrwlByTbLT5"
      },
      "outputs": [],
      "source": [
        "from collections import Counter\n",
        "import konlpy\n",
        "from konlpy.tag import Hannanum, Okt\n",
        "import re\n",
        "\n",
        "raw_df = pd.read_csv('.content/lyrics_by_year.csv', encoding='utf-8') # 연도별 멜론 순위권 노래 가사 데이터 불러오기\n",
        "df = raw_df.sort_values(by=['year', 'id']).reset_index(drop=True)  # year과 id 기준으로 정렬\n",
        "lyrics_all_df = df.copy()   # 작업용 Dataframe 생성\n",
        "unique_songs_all = lyrics_all_df.drop_duplicates(subset=['id'])   # id를 기준으로 중복 제거\n",
        "\n",
        "h = Hannanum()    # 형태소 분석을 위해 Hannaum 클래스 초기화\n",
        "okt = Okt()       # 형태소 분석을 위해 okt 클래스 초기화\n",
        "\n",
        "def get_nouns(text):        # 명사 추출 함수\n",
        "    return h.nouns(text)\n",
        "\n",
        "def get_okt(text):          # okt 형태소 분석기 사용\n",
        "    # 줄바꿈을 공백으로 변환,  형태소 정규화 및 원형화\n",
        "    return okt.pos(text.replace('\\n', ' '), norm=True, stem=True)\n",
        "\n",
        "def filter_unicode(text, unicode_range):  # 텍스트 필터링\n",
        "    start, end = unicode_range\n",
        "    return ''.join(filter(lambda c: start <= c <= end, text))\n",
        "\n",
        "def to_single_space(text):                # 공백이 두 개 이상일 경우 한 개로 바꿈\n",
        "    return re.sub('\\s{2,}', ' ', text).strip()\n",
        "\n",
        "def filter_language(text, lang='kr'):\n",
        "    if lang == 'kr':\n",
        "        return re.sub(r'[^\\uac00-\\ud7a3\\s]+', '', text)  # 한글 필터\n",
        "    elif lang == 'en':\n",
        "        return re.sub(r'[^a-zA-Z\\s]+', '', text)  # 영어 필터\n",
        "    return re.sub(r'[^\\s]+', '', text)  # 기타 문자 필터\n",
        "\n",
        "counter_kr = Counter()\n",
        "lyrics = unique_songs_all['lyric']\n",
        "\n",
        "for lyric in lyrics:\n",
        "    l_ko = filter_language(str(lyric), 'kr')  # 한국어만 추출\n",
        "    sentence = [f\"{word}_{ty}_kr\" for word, ty in get_okt(l_ko)]  # 형태소 분석 (단어별로 분리)\n",
        "    c = Counter(sentence)\n",
        "    counter_kr += c         # 단어 빈도 정보 저장\n",
        "    del c\n"
      ]
    },
    {
      "cell_type": "code",
      "execution_count": null,
      "metadata": {
        "colab": {
          "base_uri": "https://localhost:8080/"
        },
        "id": "AX_DZJW1g5FJ",
        "outputId": "a6a594f9-24f8-4ebf-e732-df7b36ed1349"
      },
      "outputs": [
        {
          "name": "stderr",
          "output_type": "stream",
          "text": [
            "[nltk_data] Downloading collection 'popular'\n",
            "[nltk_data]    | \n",
            "[nltk_data]    | Downloading package cmudict to /root/nltk_data...\n",
            "[nltk_data]    |   Unzipping corpora/cmudict.zip.\n",
            "[nltk_data]    | Downloading package gazetteers to /root/nltk_data...\n",
            "[nltk_data]    |   Unzipping corpora/gazetteers.zip.\n",
            "[nltk_data]    | Downloading package genesis to /root/nltk_data...\n",
            "[nltk_data]    |   Unzipping corpora/genesis.zip.\n",
            "[nltk_data]    | Downloading package gutenberg to /root/nltk_data...\n",
            "[nltk_data]    |   Unzipping corpora/gutenberg.zip.\n",
            "[nltk_data]    | Downloading package inaugural to /root/nltk_data...\n",
            "[nltk_data]    |   Unzipping corpora/inaugural.zip.\n",
            "[nltk_data]    | Downloading package movie_reviews to\n",
            "[nltk_data]    |     /root/nltk_data...\n",
            "[nltk_data]    |   Unzipping corpora/movie_reviews.zip.\n",
            "[nltk_data]    | Downloading package names to /root/nltk_data...\n",
            "[nltk_data]    |   Unzipping corpora/names.zip.\n",
            "[nltk_data]    | Downloading package shakespeare to /root/nltk_data...\n",
            "[nltk_data]    |   Unzipping corpora/shakespeare.zip.\n",
            "[nltk_data]    | Downloading package stopwords to /root/nltk_data...\n",
            "[nltk_data]    |   Unzipping corpora/stopwords.zip.\n",
            "[nltk_data]    | Downloading package treebank to /root/nltk_data...\n",
            "[nltk_data]    |   Unzipping corpora/treebank.zip.\n",
            "[nltk_data]    | Downloading package twitter_samples to\n",
            "[nltk_data]    |     /root/nltk_data...\n",
            "[nltk_data]    |   Unzipping corpora/twitter_samples.zip.\n",
            "[nltk_data]    | Downloading package omw to /root/nltk_data...\n",
            "[nltk_data]    | Downloading package omw-1.4 to /root/nltk_data...\n",
            "[nltk_data]    | Downloading package wordnet to /root/nltk_data...\n",
            "[nltk_data]    | Downloading package wordnet2021 to /root/nltk_data...\n",
            "[nltk_data]    | Downloading package wordnet31 to /root/nltk_data...\n",
            "[nltk_data]    | Downloading package wordnet_ic to /root/nltk_data...\n",
            "[nltk_data]    |   Unzipping corpora/wordnet_ic.zip.\n",
            "[nltk_data]    | Downloading package words to /root/nltk_data...\n",
            "[nltk_data]    |   Unzipping corpora/words.zip.\n",
            "[nltk_data]    | Downloading package maxent_ne_chunker to\n",
            "[nltk_data]    |     /root/nltk_data...\n",
            "[nltk_data]    |   Unzipping chunkers/maxent_ne_chunker.zip.\n",
            "[nltk_data]    | Downloading package punkt to /root/nltk_data...\n",
            "[nltk_data]    |   Unzipping tokenizers/punkt.zip.\n",
            "[nltk_data]    | Downloading package snowball_data to\n",
            "[nltk_data]    |     /root/nltk_data...\n",
            "[nltk_data]    | Downloading package averaged_perceptron_tagger to\n",
            "[nltk_data]    |     /root/nltk_data...\n",
            "[nltk_data]    |   Unzipping taggers/averaged_perceptron_tagger.zip.\n",
            "[nltk_data]    | \n",
            "[nltk_data]  Done downloading collection popular\n"
          ]
        }
      ],
      "source": [
        "import nltk                                             # 자연어 처리 라이브러리\n",
        "from nltk.stem import PorterStemmer, WordNetLemmatizer\n",
        "from nltk.tokenize import word_tokenize                 # 비슷한 프로젝트들의 표제어 추출 로직 참조\n",
        "\n",
        "nltk.download('popular')                                # 자연어 처리\n",
        "\n",
        "lemmatizer = WordNetLemmatizer()                        # 표제어 추출\n",
        "stemmer = PorterStemmer()                               # 어간 추출"
      ]
    },
    {
      "cell_type": "code",
      "execution_count": null,
      "metadata": {
        "id": "qZ1pOupogiKs"
      },
      "outputs": [],
      "source": [
        "def complete_word(words):       # 축약형 단어 처리\n",
        "    def complete(word):\n",
        "        if word == 'I': return ['I']\n",
        "        if word == 'Im': return ['I', 'am']\n",
        "        if word == 'Ill': return ['I', 'will']\n",
        "        return [word.lower()]\n",
        "    r = []\n",
        "    for w in words:\n",
        "        r += complete(w)\n",
        "    return r\n",
        "\n",
        "counter_en = Counter()\n",
        "\n",
        "for l in lyrics:\n",
        "    l = '' if type(l) != str else l     # 가사가 문자열이 아닌 경우\n",
        "    sentence = filter_language(l, 'en') # 영어 가사만 필터링\n",
        "    if len(sentence) < 1:               # 가사가 비어있을 경우\n",
        "        continue\n",
        "    words = complete_word(sentence.split()) # 단어 확장 및 처\n",
        "    c = Counter([f\"{lemmatizer.lemmatize(word, 'v')}_Eng_en\" for word in words])  # 표제어 처리\n",
        "    counter_en += c                     # 단어 빈도 정보 저장\n",
        "    del c\n",
        "\n",
        "count_pairs = []\n",
        "counter = counter_kr + counter_en   # 한국어와 영어 단어 빈도 정보 합산\n",
        "\n",
        "for key, count in counter.items():\n",
        "    word, kind, lang = key.split('_')               # 단어, 품사, 언어 분리\n",
        "    count_pairs.append((word, kind, count, lang))   # 튜플로 저장\n",
        "\n",
        "count_df = pd.DataFrame(count_pairs, columns=['word', 'type', 'count', 'language'])\n",
        "count_df = count_df.sort_values(by=['count', 'type'], ascending=[False, True])  # 빈도 기준 내림차순, 품사 기준 오름차순\n",
        "\n",
        "# 결과 저장\n",
        "count_df.to_csv('lyrics_words_count.csv', encoding='utf-8', index=False)"
      ]
    },
    {
      "cell_type": "code",
      "execution_count": null,
      "metadata": {
        "id": "rnBULCjSho6N"
      },
      "outputs": [],
      "source": [
        "import numpy as np\n",
        "\n",
        "def get_words_counts(df) -> dict:\n",
        "    d = df[['word', 'count']]       # 단어와 빈도만 포함된 DataFrame\n",
        "    d.index = d['word']             # 단어를 인덱스로 설정\n",
        "    d = d.drop(['word'], axis=1)    # 단어 컬럼 제거\n",
        "    return d.to_dict()['count']     # 딕셔너리 형식으로 반환\n",
        "\n",
        "count_df['type'].unique()\n",
        "is_kr = count_df['language'] == 'kr'      # 한국어\n",
        "is_en = count_df['language'] == 'en'      # 영어\n",
        "is_noun = count_df['type'] == 'Noun'      # 명사\n",
        "is_verb = count_df['type'] == 'Verb'      # 동사\n",
        "is_adj = count_df['type'] == 'Adjective'  # 형용사\n",
        "\n",
        "rows = []\n",
        "years = sorted(lyrics_all_df.year.unique())\n",
        "\n",
        "for year in years:\n",
        "    df = lyrics_all_df[lyrics_all_df.year == year].copy()   # 가사의 연도별로 고유 값 추출, 오름차순 정렬\n",
        "    kr_wc, en_wc, etc = [], [], []          # 한국어 단어, 영어 단어, 기타\n",
        "    kr_wc_r, en_wc_r, etc_r = [], [], []    # 전체 단어 수에 대한 비율\n",
        "    for l in df['lyric']:\n",
        "        l = l if type(l) is str else ''\n",
        "        l = l.replace('\\n', ' ').strip()\n",
        "        k = len(filter_language(l, 'kr').split())   # 한국어 필터링\n",
        "        e = len(filter_language(l, 'en').split())   # 영어 필터링\n",
        "        z = len(l.replace(' ', '')) - k - e         # 기타\n",
        "        total = k + e + z\n",
        "        kr_wc.append(k)\n",
        "        kr_wc_r.append(k / total if total > 0 else 0)   # 비율 계산\n",
        "        en_wc.append(e)\n",
        "        en_wc_r.append(e / total if total > 0 else 0)   # 비율 계산\n",
        "        etc.append(z)\n",
        "        etc_r.append(z / total if total > 0 else 0)     # 비율 계산\n",
        "\n",
        "    rows.append([\n",
        "        sum(kr_wc), sum(en_wc), sum(etc),                   # 단어 총합\n",
        "        np.mean(kr_wc_r), np.mean(en_wc_r), np.mean(etc_r)  # 비율 평균\n",
        "    ])\n",
        "\n",
        "rows = np.array(rows)\n",
        "\n",
        "cnt_df = pd.DataFrame(rows, columns=[\n",
        "    'kr_words', 'en_words', 'etc_words',                    # 한국어 단어, 영어 단어, 기타\n",
        "    'kr_words_ratio', 'en_words_ratio', 'etc_words_ratio'   # 전체 단어 수의 대한 비율\n",
        "])\n",
        "cnt_df['year'] = years\n",
        "for col in ['kr_words', 'en_words', 'etc_words']:\n",
        "    cnt_df[col] = cnt_df[col].astype(int)\n",
        "cnt_df = cnt_df[[                                           # 연도별\n",
        "    'year',\n",
        "    'kr_words', 'en_words', 'etc_words',\n",
        "    'kr_words_ratio', 'en_words_ratio', 'etc_words_ratio'\n",
        "]]\n",
        "\n",
        "ratio_df = cnt_df[['year']].copy()\n",
        "ratio_df['kr_en'] = cnt_df['kr_words_ratio'] / (cnt_df['kr_words_ratio'] + cnt_df['en_words_ratio'])  # 한국어 비율 계산\n",
        "ratio_df['en_kr'] = cnt_df['en_words_ratio'] / (cnt_df['kr_words_ratio'] + cnt_df['en_words_ratio'])  # 영어 비율 계산"
      ]
    },
    {
      "cell_type": "code",
      "execution_count": null,
      "metadata": {
        "colab": {
          "base_uri": "https://localhost:8080/",
          "height": 519
        },
        "id": "CU0nVDw8iP0u",
        "outputId": "5cb1004f-f7f5-49c9-b3f9-92006fc1e319"
      },
      "outputs": [
        {
          "data": {
            "image/png": "[encoded data removed]",
            "text/plain": [
              "<Figure size 1100x600 with 1 Axes>"
            ]
          },
          "metadata": {},
          "output_type": "display_data"
        },
        {
          "name": "stdout",
          "output_type": "stream",
          "text": [
            "Graph saved to ./result/kpop_english_ratio.png\n"
          ]
        }
      ],
      "source": [
        "import os\n",
        "import seaborn as sns\n",
        "import matplotlib.pyplot as plt\n",
        "\n",
        "# 결과 저장 경로\n",
        "output_dir = \"./result\"\n",
        "output_path = os.path.join(output_dir, \"kpop_english_ratio.png\")\n",
        "\n",
        "# 디렉토리 생성\n",
        "os.makedirs(output_dir, exist_ok=True)\n",
        "\n",
        "# 시각화\n",
        "fig, ax = plt.subplots(1, 1, figsize=[11, 6])\n",
        "x_var, y_var = \"kr_en\", \"en_kr\"\n",
        "df_grouped = ratio_df[[x_var, y_var]]\n",
        "df_grouped.columns = ['korean', 'english']\n",
        "df_grouped.plot.bar(stacked=True, width=0.85, ax=ax, color=['#819FF7', '#BCF5A9'])\n",
        "plt.xticks(ticks=range(len(df_grouped)), labels=ratio_df['year'])\n",
        "plt.yticks(ticks=[0, 1], labels=['kor', 'eng'])\n",
        "plt.legend(\n",
        "    bbox_to_anchor=(0.5, 1.05),\n",
        "    loc=\"lower center\",\n",
        "    borderaxespad=0,\n",
        "    frameon=False,\n",
        "    ncol=2\n",
        ")\n",
        "for ix, row in df_grouped.reset_index(drop=True).iterrows():\n",
        "    cumulative = 0\n",
        "    for element in row:\n",
        "        if element == element and element > 0.1:\n",
        "            plt.text(\n",
        "                ix,\n",
        "                cumulative + element / 2,\n",
        "                f\"{int(element * 100)} %\",\n",
        "                va=\"center\",\n",
        "                ha=\"center\",\n",
        "                rotation=90,\n",
        "                color=\"black\",\n",
        "                fontsize=\"x-small\",\n",
        "            )\n",
        "        cumulative += element\n",
        "plt.xlabel('year')\n",
        "plt.title('K-pop 가사 영어 비율', fontsize=16, color='black')\n",
        "for spine in ['top', 'right', 'bottom', 'left']:\n",
        "    ax.spines[spine].set_visible(False)\n",
        "plt.tight_layout()\n",
        "\n",
        "# 결과 저장\n",
        "plt.savefig(output_path, bbox_inches='tight')\n",
        "plt.show()\n",
        "\n",
        "print(f\"시대별 k-pop 가사 분석 시각화가 저장되었습니다. : {output_path}\")\n"
      ]
    },
    {
      "cell_type": "code",
      "execution_count": null,
      "metadata": {
        "colab": {
          "base_uri": "https://localhost:8080/",
          "height": 1000,
          "referenced_widgets": [
            "93cae0ba97134561a5f1edd93ca251c0",
            "3d3613e008eb4bbf8d3737741fbd3d7d",
            "13e13e50cc5646489629bff3edf66706",
            "78b3cfb2d4f04311a03ba893f2b086dd",
            "1386223db50241499a9ccc073ed65622",
            "f032885f20dd4b0b9488809950e428a0",
            "09a1ed65ea1041839f17e0721f4928ef"
          ]
        },
        "id": "RPh8RoacZLo3",
        "outputId": "4403c5d0-4baf-453f-ba97-e80db6c64ab2"
      },
      "outputs": [
        {
          "data": {
            "application/vnd.jupyter.widget-view+json": {
              "model_id": "93cae0ba97134561a5f1edd93ca251c0",
              "version_major": 2,
              "version_minor": 0
            },
            "text/plain": [
              "interactive(children=(Dropdown(description='연도 선택:', options=(1964, 1965, 1966, 1967, 1968, 1969, 1970, 1971, …"
            ]
          },
          "metadata": {},
          "output_type": "display_data"
        }
      ],
      "source": [
        "import os\n",
        "import ipywidgets as widgets\n",
        "from IPython.display import display\n",
        "import seaborn as sns\n",
        "import matplotlib.pyplot as plt\n",
        "import pandas as pd\n",
        "\n",
        "# 연도별 가장 많이 사용된 단어 계산 및 저장\n",
        "years = sorted(unique_songs_all.year.unique())\n",
        "top_words_per_year_kr = {}\n",
        "top_words_per_year_en = {}\n",
        "\n",
        "for year in years:\n",
        "    df_year = unique_songs_all[unique_songs_all.year == year]\n",
        "\n",
        "    # 한국어 단어 처리\n",
        "    kr_words = Counter()\n",
        "    for lyric in df_year['lyric']:\n",
        "        lyric = str(lyric).replace('\\n', ' ').strip() if isinstance(lyric, str) else ''\n",
        "        kr_words.update(filter_language(lyric, 'kr').split())\n",
        "\n",
        "    # 영어 단어 처리\n",
        "    en_words = Counter()\n",
        "    for lyric in df_year['lyric']:\n",
        "        lyric = str(lyric).replace('\\n', ' ').strip() if isinstance(lyric, str) else ''\n",
        "        en_words.update(filter_language(lyric, 'en').split())\n",
        "\n",
        "    # 상위 10개 단어 추출\n",
        "    top_words_per_year_kr[year] = kr_words.most_common(10)\n",
        "    top_words_per_year_en[year] = en_words.most_common(10)\n",
        "\n",
        "# 연도 선택 위젯 생성\n",
        "year_widget = widgets.Dropdown(\n",
        "    options=years,\n",
        "    description='연도 선택:',\n",
        "    disabled=False\n",
        ")\n",
        "\n",
        "# 선택된 연도에 따라 시각화\n",
        "def update_graph(year):\n",
        "    # 한국어 단어 시각화\n",
        "    top_kr_words = pd.DataFrame(top_words_per_year_kr[year], columns=['word', 'count'])\n",
        "    fig, axs = plt.subplots(1, 1, figsize=(12, 6))\n",
        "    sns.barplot(data=top_kr_words, x='count', y='word', ax=axs, palette='Blues_r')\n",
        "    axs.set_title(f\"{year}년 한국어 단어 순위\")\n",
        "    axs.set_xlabel(\"횟수\")\n",
        "    axs.set_ylabel(\"단어\")\n",
        "    axs.tick_params(axis=\"y\", labelsize=8)\n",
        "    plt.tight_layout()\n",
        "    kr_path = os.path.join(output_dir, f\"Korean_Words_Ranking{year}.png\")\n",
        "    plt.savefig(kr_path)\n",
        "    plt.show()\n",
        "\n",
        "    print(f\"한국어 단어 순위 시각화가 저장되었습니다. : {kr_path}\")\n",
        "\n",
        "    # 영어 단어 시각화\n",
        "    if len(top_words_per_year_en[year]) > 0:  # 영어 단어가 존재하는지 확인\n",
        "        top_en_words = pd.DataFrame(top_words_per_year_en[year], columns=['word', 'count'])\n",
        "        fig, axs = plt.subplots(1, 1, figsize=(12, 6))\n",
        "        sns.barplot(data=top_en_words, x='count', y='word', ax=axs, palette='Oranges_r')\n",
        "        axs.set_title(f\"{year}년 영어 단어 순위\")\n",
        "        axs.set_xlabel(\"횟수\")\n",
        "        axs.set_ylabel(\"단어\")\n",
        "        axs.tick_params(axis=\"y\", labelsize=8)\n",
        "        plt.tight_layout()\n",
        "        en_path = os.path.join(output_dir, f\"English_Words_Ranking_{year}.png\")\n",
        "        plt.savefig(en_path)\n",
        "        plt.show()\n",
        "\n",
        "        print(f\"영어 단어 순위 시각화가 저장되었습니다. : {en_path}\")\n",
        "    else:\n",
        "        print(f\"{year}년에 사용된 영어 단어가 없습니다. 시각화를 하지 않습니다.\")\n",
        "\n",
        "# 위젯과 함수를 연결하여 화면에 표시\n",
        "widgets.interactive(update_graph, year=year_widget)\n"
      ]
    },
    {
      "cell_type": "code",
      "source": [
        "# 2009년 첫 빌보드 진입 k-pop\n",
        "# 원더걸스 - Nobody\n",
        "\n",
        "filename = \"./content/Nobody_lylics.txt\"\n",
        "\n",
        "save_file = os.path.join(output_dir, \"nobody_lyrics_english_ratio.png\")\n",
        "\n",
        "try:\n",
        "    with open(filename, \"r\", encoding=\"utf-8\") as file:\n",
        "        lyrics = file.read()\n",
        "except FileNotFoundError:\n",
        "    print(f\"파일 '{filename}'을 찾을 수 없습니다.\")\n",
        "    raise\n",
        "\n",
        "# 한국어, 영어 필터링 함수\n",
        "def filter_language(text, lang='kr'):\n",
        "    if lang == 'kr':\n",
        "        return re.sub('[^\\uac00-\\ud7a3\\s]+', '', text)  # 한글만 남기기\n",
        "    elif lang == 'en':\n",
        "        return re.sub('[^a-zA-Z\\s]+', '', text)  # 영어만 남기기\n",
        "    return \"\"\n",
        "\n",
        "# 한국어와 영어 단어 추출 및 비율 계산\n",
        "kr_words = filter_language(lyrics, lang='kr').split()\n",
        "en_words = filter_language(lyrics, lang='en').split()\n",
        "\n",
        "kr_count = len(kr_words)\n",
        "en_count = len(en_words)\n",
        "total_count = kr_count + en_count\n",
        "\n",
        "kr_ratio = kr_count / total_count if total_count > 0 else 0\n",
        "en_ratio = en_count / total_count if total_count > 0 else 0\n",
        "\n",
        "# 시각화 및 저장\n",
        "fig, ax = plt.subplots(figsize=(6, 6))\n",
        "labels = ['Korean', 'English']\n",
        "ratios = [kr_ratio, en_ratio]\n",
        "colors = ['#1f77b4', '#ff7f0e']\n",
        "\n",
        "ax.pie(\n",
        "    ratios,\n",
        "    labels=labels,\n",
        "    autopct='%1.1f%%',\n",
        "    startangle=90,\n",
        "    colors=colors,\n",
        "    textprops={'fontsize': 12}\n",
        ")\n",
        "\n",
        "ax.set_title(\"원더걸스 Nobody 가사 분석\", fontsize=14)\n",
        "plt.tight_layout()\n",
        "\n",
        "# 시각화 저장\n",
        "plt.savefig(save_file)\n",
        "print(f\"시각화가 '{save_file}'에 저장되었습니다.\")\n",
        "\n",
        "# 그래프 표시\n",
        "plt.show()"
      ],
      "metadata": {
        "colab": {
          "base_uri": "https://localhost:8080/",
          "height": 595
        },
        "id": "KuFRi4OhyMYr",
        "outputId": "32e78dd7-9ffd-4454-c16c-8f63a536dfb6"
      },
      "execution_count": 10,
      "outputs": [
        {
          "output_type": "stream",
          "name": "stdout",
          "text": [
            "시각화가 './result/nobody_lyrics_language_ratio.png'에 저장되었습니다.\n"
          ]
        },
        {
          "output_type": "display_data",
          "data": {
            "text/plain": [
              "<Figure size 600x600 with 1 Axes>"
            ],
            "image/png": "[encoded data removed]"
          },
          "metadata": {}
        }
      ]
    }
  ],
  "metadata": {
    "colab": {
      "provenance": []
    },
    "kernelspec": {
      "display_name": "Python 3",
      "name": "python3"
    },
    "language_info": {
      "codemirror_mode": {
        "name": "ipython",
        "version": 3
      },
      "file_extension": ".py",
      "mimetype": "text/x-python",
      "name": "python",
      "nbconvert_exporter": "python",
      "pygments_lexer": "ipython3",
      "version": "3.12.7"
    },
    "widgets": {
      "application/vnd.jupyter.widget-state+json": {
        "09a1ed65ea1041839f17e0721f4928ef": {
          "model_module": "@jupyter-widgets/base",
          "model_module_version": "1.2.0",
          "model_name": "LayoutModel",
          "state": {
            "_model_module": "@jupyter-widgets/base",
            "_model_module_version": "1.2.0",
            "_model_name": "LayoutModel",
            "_view_count": null,
            "_view_module": "@jupyter-widgets/base",
            "_view_module_version": "1.2.0",
            "_view_name": "LayoutView",
            "align_content": null,
            "align_items": null,
            "align_self": null,
            "border": null,
            "bottom": null,
            "display": null,
            "flex": null,
            "flex_flow": null,
            "grid_area": null,
            "grid_auto_columns": null,
            "grid_auto_flow": null,
            "grid_auto_rows": null,
            "grid_column": null,
            "grid_gap": null,
            "grid_row": null,
            "grid_template_areas": null,
            "grid_template_columns": null,
            "grid_template_rows": null,
            "height": null,
            "justify_content": null,
            "justify_items": null,
            "left": null,
            "margin": null,
            "max_height": null,
            "max_width": null,
            "min_height": null,
            "min_width": null,
            "object_fit": null,
            "object_position": null,
            "order": null,
            "overflow": null,
            "overflow_x": null,
            "overflow_y": null,
            "padding": null,
            "right": null,
            "top": null,
            "visibility": null,
            "width": null
          }
        },
        "1386223db50241499a9ccc073ed65622": {
          "model_module": "@jupyter-widgets/base",
          "model_module_version": "1.2.0",
          "model_name": "LayoutModel",
          "state": {
            "_model_module": "@jupyter-widgets/base",
            "_model_module_version": "1.2.0",
            "_model_name": "LayoutModel",
            "_view_count": null,
            "_view_module": "@jupyter-widgets/base",
            "_view_module_version": "1.2.0",
            "_view_name": "LayoutView",
            "align_content": null,
            "align_items": null,
            "align_self": null,
            "border": null,
            "bottom": null,
            "display": null,
            "flex": null,
            "flex_flow": null,
            "grid_area": null,
            "grid_auto_columns": null,
            "grid_auto_flow": null,
            "grid_auto_rows": null,
            "grid_column": null,
            "grid_gap": null,
            "grid_row": null,
            "grid_template_areas": null,
            "grid_template_columns": null,
            "grid_template_rows": null,
            "height": null,
            "justify_content": null,
            "justify_items": null,
            "left": null,
            "margin": null,
            "max_height": null,
            "max_width": null,
            "min_height": null,
            "min_width": null,
            "object_fit": null,
            "object_position": null,
            "order": null,
            "overflow": null,
            "overflow_x": null,
            "overflow_y": null,
            "padding": null,
            "right": null,
            "top": null,
            "visibility": null,
            "width": null
          }
        },
        "13e13e50cc5646489629bff3edf66706": {
          "model_module": "@jupyter-widgets/output",
          "model_module_version": "1.0.0",
          "model_name": "OutputModel",
          "state": {
            "_dom_classes": [],
            "_model_module": "@jupyter-widgets/output",
            "_model_module_version": "1.0.0",
            "_model_name": "OutputModel",
            "_view_count": null,
            "_view_module": "@jupyter-widgets/output",
            "_view_module_version": "1.0.0",
            "_view_name": "OutputView",
            "layout": "IPY_MODEL_09a1ed65ea1041839f17e0721f4928ef",
            "msg_id": "",
            "outputs": [
              {
                "name": "stderr",
                "output_type": "stream",
                "text": [
                  "<ipython-input-20-af8572530339>:44: FutureWarning: \n",
                  "\n",
                  "Passing `palette` without assigning `hue` is deprecated and will be removed in v0.14.0. Assign the `y` variable to `hue` and set `legend=False` for the same effect.\n",
                  "\n",
                  "  sns.barplot(data=top_kr_words, x='count', y='word', ax=axs, palette='Blues_r')\n"
                ]
              },
              {
                "data": {
                  "image/png": "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\n",
                  "text/plain": "<Figure size 1200x600 with 1 Axes>"
                },
                "metadata": {},
                "output_type": "display_data"
              },
              {
                "name": "stdout",
                "output_type": "stream",
                "text": [
                  "Korean words graph saved as: ./result/Korean_Words_Ranking2023.png\n"
                ]
              },
              {
                "name": "stderr",
                "output_type": "stream",
                "text": [
                  "<ipython-input-20-af8572530339>:60: FutureWarning: \n",
                  "\n",
                  "Passing `palette` without assigning `hue` is deprecated and will be removed in v0.14.0. Assign the `y` variable to `hue` and set `legend=False` for the same effect.\n",
                  "\n",
                  "  sns.barplot(data=top_en_words, x='count', y='word', ax=axs, palette='Oranges_r')\n"
                ]
              },
              {
                "data": {
                  "image/png": "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\n",
                  "text/plain": "<Figure size 1200x600 with 1 Axes>"
                },
                "metadata": {},
                "output_type": "display_data"
              },
              {
                "name": "stdout",
                "output_type": "stream",
                "text": [
                  "English words graph saved as: ./result/English_Words_Ranking_2023.png\n"
                ]
              }
            ]
          }
        },
        "3d3613e008eb4bbf8d3737741fbd3d7d": {
          "model_module": "@jupyter-widgets/controls",
          "model_module_version": "1.5.0",
          "model_name": "DropdownModel",
          "state": {
            "_dom_classes": [],
            "_model_module": "@jupyter-widgets/controls",
            "_model_module_version": "1.5.0",
            "_model_name": "DropdownModel",
            "_options_labels": [
              "1964",
              "1965",
              "1966",
              "1967",
              "1968",
              "1969",
              "1970",
              "1971",
              "1972",
              "1973",
              "1974",
              "1975",
              "1976",
              "1977",
              "1978",
              "1979",
              "1980",
              "1981",
              "1982",
              "1983",
              "1984",
              "1985",
              "1986",
              "1987",
              "1988",
              "1989",
              "1990",
              "1991",
              "1992",
              "1993",
              "1994",
              "1995",
              "1996",
              "1997",
              "1998",
              "1999",
              "2000",
              "2001",
              "2002",
              "2003",
              "2004",
              "2005",
              "2006",
              "2007",
              "2008",
              "2009",
              "2010",
              "2011",
              "2012",
              "2013",
              "2014",
              "2015",
              "2016",
              "2017",
              "2018",
              "2019",
              "2020",
              "2021",
              "2022",
              "2023"
            ],
            "_view_count": null,
            "_view_module": "@jupyter-widgets/controls",
            "_view_module_version": "1.5.0",
            "_view_name": "DropdownView",
            "description": "연도 선택:",
            "description_tooltip": null,
            "disabled": false,
            "index": 59,
            "layout": "IPY_MODEL_1386223db50241499a9ccc073ed65622",
            "style": "IPY_MODEL_f032885f20dd4b0b9488809950e428a0"
          }
        },
        "78b3cfb2d4f04311a03ba893f2b086dd": {
          "model_module": "@jupyter-widgets/base",
          "model_module_version": "1.2.0",
          "model_name": "LayoutModel",
          "state": {
            "_model_module": "@jupyter-widgets/base",
            "_model_module_version": "1.2.0",
            "_model_name": "LayoutModel",
            "_view_count": null,
            "_view_module": "@jupyter-widgets/base",
            "_view_module_version": "1.2.0",
            "_view_name": "LayoutView",
            "align_content": null,
            "align_items": null,
            "align_self": null,
            "border": null,
            "bottom": null,
            "display": null,
            "flex": null,
            "flex_flow": null,
            "grid_area": null,
            "grid_auto_columns": null,
            "grid_auto_flow": null,
            "grid_auto_rows": null,
            "grid_column": null,
            "grid_gap": null,
            "grid_row": null,
            "grid_template_areas": null,
            "grid_template_columns": null,
            "grid_template_rows": null,
            "height": null,
            "justify_content": null,
            "justify_items": null,
            "left": null,
            "margin": null,
            "max_height": null,
            "max_width": null,
            "min_height": null,
            "min_width": null,
            "object_fit": null,
            "object_position": null,
            "order": null,
            "overflow": null,
            "overflow_x": null,
            "overflow_y": null,
            "padding": null,
            "right": null,
            "top": null,
            "visibility": null,
            "width": null
          }
        },
        "93cae0ba97134561a5f1edd93ca251c0": {
          "model_module": "@jupyter-widgets/controls",
          "model_module_version": "1.5.0",
          "model_name": "VBoxModel",
          "state": {
            "_dom_classes": [
              "widget-interact"
            ],
            "_model_module": "@jupyter-widgets/controls",
            "_model_module_version": "1.5.0",
            "_model_name": "VBoxModel",
            "_view_count": null,
            "_view_module": "@jupyter-widgets/controls",
            "_view_module_version": "1.5.0",
            "_view_name": "VBoxView",
            "box_style": "",
            "children": [
              "IPY_MODEL_3d3613e008eb4bbf8d3737741fbd3d7d",
              "IPY_MODEL_13e13e50cc5646489629bff3edf66706"
            ],
            "layout": "IPY_MODEL_78b3cfb2d4f04311a03ba893f2b086dd"
          }
        },
        "f032885f20dd4b0b9488809950e428a0": {
          "model_module": "@jupyter-widgets/controls",
          "model_module_version": "1.5.0",
          "model_name": "DescriptionStyleModel",
          "state": {
            "_model_module": "@jupyter-widgets/controls",
            "_model_module_version": "1.5.0",
            "_model_name": "DescriptionStyleModel",
            "_view_count": null,
            "_view_module": "@jupyter-widgets/base",
            "_view_module_version": "1.2.0",
            "_view_name": "StyleView",
            "description_width": ""
          }
        }
      }
    }
  },
  "nbformat": 4,
  "nbformat_minor": 0
}